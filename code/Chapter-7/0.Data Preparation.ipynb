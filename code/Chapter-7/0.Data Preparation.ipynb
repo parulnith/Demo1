{
  "cells": [
    {
      "cell_type": "markdown",
      "metadata": {
        "id": "view-in-github",
        "colab_type": "text"
      },
      "source": [
        "<a href=\"https://colab.research.google.com/github/parulnith/Demo1/blob/master/code/Chapter-7/0.Data%20Preparation.ipynb\" target=\"_parent\"><img src=\"https://colab.research.google.com/assets/colab-badge.svg\" alt=\"Open In Colab\"/></a>"
      ]
    },
    {
      "cell_type": "markdown",
      "id": "cd5db84d",
      "metadata": {
        "id": "cd5db84d"
      },
      "source": [
        "# Chapter 7: Explaining a PyTorch Image Classifier\n",
        "\n",
        "### Data Preparation"
      ]
    },
    {
      "cell_type": "markdown",
      "id": "91f6f7c2",
      "metadata": {
        "id": "91f6f7c2"
      },
      "source": [
        "## 1. Setting the environment"
      ]
    },
    {
      "cell_type": "code",
      "execution_count": 2,
      "id": "7b52ade8",
      "metadata": {
        "id": "7b52ade8"
      },
      "outputs": [],
      "source": [
        "import os\n",
        "import cv2\n",
        "import numpy as np\n",
        "import pandas as pd\n",
        "import seaborn as sns\n",
        "import matplotlib.pyplot as plt\n",
        "\n",
        "from sklearn.model_selection import train_test_split\n",
        "\n",
        "import torch\n",
        "import torchvision\n",
        "import torch.nn as nn\n",
        "from torchvision import datasets, transforms\n",
        "from torchvision.datasets import ImageFolder\n",
        "from torch.utils.data import Dataset, DataLoader, ConcatDataset\n",
        "\n",
        "device = torch.device('cuda:0' if torch.cuda.is_available() else 'cpu')\n"
      ]
    },
    {
      "cell_type": "markdown",
      "id": "874f772c",
      "metadata": {
        "id": "874f772c"
      },
      "source": [
        "## 2. Loading the dataset\n",
        "\n",
        "We'll create an image classifier to diagnose pneumonia in Chest X-Ray images The dataset we’ll use for training has been taken from [Kaggle](https://www.kaggle.com/datasets/paultimothymooney/chest-xray-pneumonia), and it consists of 5,863 X-Ray images of patients, which have been split into two distinct categories — one containing pneumonia and the other being normal.\n",
        "\n",
        "Download the zipped dataset from Kaggle and save it as `chest_xray.zip` on your local systems"
      ]
    },
    {
      "cell_type": "code",
      "execution_count": null,
      "id": "18adeea3",
      "metadata": {
        "id": "18adeea3"
      },
      "outputs": [],
      "source": [
        "import zipfile\n",
        "with zipfile.ZipFile(\"chest_xray.zip\",\"r\") as zip_ref:\n",
        "    zip_ref.extractall(\"chest_xray\")"
      ]
    },
    {
      "cell_type": "code",
      "execution_count": null,
      "id": "1e1c3ad1",
      "metadata": {
        "id": "1e1c3ad1"
      },
      "outputs": [],
      "source": [
        "\n",
        "# Directories\n",
        "PATH_original = 'chest_xray_original'\n",
        "PATH_preprocessed = 'chest_xray_pre-processed'\n"
      ]
    },
    {
      "cell_type": "code",
      "execution_count": null,
      "id": "8df3f9bf",
      "metadata": {
        "id": "8df3f9bf"
      },
      "outputs": [],
      "source": [
        "def distribution(data_set):\n",
        "    #To calculate distribution of the datasets\n",
        "    \n",
        "    normal_path = os.path.join(PATH_original+f\"/{data_set}/NORMAL\")\n",
        "    pneumonia_path = os.path.join(PATH_original+f\"/{data_set}/PNEUMONIA\")\n",
        "  \n",
        "    normal = len([filename for filename in os.listdir(normal_path)])\n",
        "    pneumonia = len([filename for filename in os.listdir(pneumonia_path)])\n",
        "\n",
        "    distribution = dict(zip(['Normal','Pneumonia'],[normal,pneumonia]))\n",
        "    sns.barplot(x=list(distribution.keys()), y=list(distribution.values())).set_title(f\"{data_set} Data Imbalance\")\n",
        "    return distribution"
      ]
    },
    {
      "cell_type": "code",
      "execution_count": null,
      "id": "dd70b780",
      "metadata": {
        "id": "dd70b780",
        "outputId": "e28e2fa7-367c-4885-a2ac-118d2c2be228"
      },
      "outputs": [
        {
          "data": {
            "text/plain": [
              "{'Normal': 1342, 'Pneumonia': 3876}"
            ]
          },
          "execution_count": 12,
          "metadata": {},
          "output_type": "execute_result"
        },
        {
          "data": {
            "image/png": "[encoded data removed]",
            "text/plain": [
              "<Figure size 432x288 with 1 Axes>"
            ]
          },
          "metadata": {
            "needs_background": "light"
          },
          "output_type": "display_data"
        }
      ],
      "source": [
        "distribution('train')"
      ]
    },
    {
      "cell_type": "code",
      "execution_count": null,
      "id": "7bacfeab",
      "metadata": {
        "id": "7bacfeab",
        "outputId": "ca740fa9-8120-4eaa-e9b1-4f59a2a6fce2"
      },
      "outputs": [
        {
          "data": {
            "text/plain": [
              "{'Normal': 234, 'Pneumonia': 390}"
            ]
          },
          "execution_count": 13,
          "metadata": {},
          "output_type": "execute_result"
        },
        {
          "data": {
            "image/png": "[encoded data removed]",
            "text/plain": [
              "<Figure size 432x288 with 1 Axes>"
            ]
          },
          "metadata": {
            "needs_background": "light"
          },
          "output_type": "display_data"
        }
      ],
      "source": [
        "distribution('test')"
      ]
    },
    {
      "cell_type": "code",
      "execution_count": null,
      "id": "8b61bbae",
      "metadata": {
        "id": "8b61bbae",
        "outputId": "334cb43e-959e-4d72-babf-ce1724a86683"
      },
      "outputs": [
        {
          "data": {
            "text/plain": [
              "{'Normal': 9, 'Pneumonia': 9}"
            ]
          },
          "execution_count": 14,
          "metadata": {},
          "output_type": "execute_result"
        },
        {
          "data": {
            "image/png": "[encoded data removed]",
            "text/plain": [
              "<Figure size 432x288 with 1 Axes>"
            ]
          },
          "metadata": {
            "needs_background": "light"
          },
          "output_type": "display_data"
        }
      ],
      "source": [
        "distribution('val')"
      ]
    },
    {
      "cell_type": "markdown",
      "id": "41bfef58",
      "metadata": {
        "id": "41bfef58"
      },
      "source": [
        "Like many datasets in medical applications, this data has a class imbalance problem. Another cause of the concern is the presence of very few images validation set. The validation dataset consists of only 9 images for Pneumonia class and another 9 for the Normal class. This is not a sufficient number to adequately validate the model. We have to address these and other issues before proceeding with training our model.\n",
        "\n",
        "We will manually transfer 461 Normal and 498 Pneumonia unique images from training folder to validation folder. The preprocessed dataset can be accessed from [here](https://drive.google.com/file/d/11jxjNArE0--jYySd1P2Ii9ivpusW-6kI/view) and place it in a folder named `chest_xray_pre-processed`.\n",
        " "
      ]
    },
    {
      "cell_type": "markdown",
      "id": "fd6f56a5",
      "metadata": {
        "id": "fd6f56a5"
      },
      "source": [
        "## 3. Oversampling the training data\n",
        "\n",
        "We'll now augment the remaining training set by oversampling the minority class inorder to balance the classes"
      ]
    },
    {
      "cell_type": "code",
      "execution_count": null,
      "id": "ef39f361",
      "metadata": {
        "id": "ef39f361"
      },
      "outputs": [],
      "source": [
        "TRAIN_DIR = 'chest_xray_pre-processed/chest_xray/train'\n",
        "\n",
        "IMAGE_SIZE = 224 # Image size of resize when applying transforms.\n",
        "BATCH_SIZE = 32\n",
        "NUM_WORKERS = 4 # Number of parallel processes for data preparation.\n",
        "def get_augmented_data():\n",
        "    sample1 = ImageFolder(TRAIN_DIR, \n",
        "                        transform = transforms.Compose([transforms.Resize((224,224)),\n",
        "                                            transforms.RandomRotation(10),\n",
        "                                            transforms.RandomGrayscale(),\n",
        "                                            transforms.RandomAffine(translate=(0.05,0.05), degrees=0),\n",
        "                                            transforms.ToTensor(),\n",
        "                                            transforms.Normalize([0.485, 0.456, 0.406], [0.229, 0.224, 0.225]),\n",
        "                                           ]))\n",
        "\n",
        "    sample2 = ImageFolder(TRAIN_DIR, \n",
        "                          transform=transforms.Compose([transforms.Resize((224,224)),\n",
        "                                                transforms.RandomGrayscale(),\n",
        "                                                transforms.RandomAffine(translate=(0.1,0.05), degrees=10),\n",
        "                                     \n",
        "                                                        transforms.ToTensor(),\n",
        "                                                transforms.Normalize([0.485, 0.456, 0.406], [0.229, 0.224, 0.225]),\n",
        "                                             ]))\n",
        "\n",
        "    sample3 = ImageFolder(TRAIN_DIR, \n",
        "                          transforms.Compose([transforms.Resize((224,224)),\n",
        "                                                transforms.RandomRotation(15),\n",
        "                                                transforms.RandomGrayscale(p=1),\n",
        "                                                transforms.RandomAffine(translate=(0.08,0.1), degrees=15),\n",
        "                                                transforms.ToTensor(),\n",
        "                                                transforms.Normalize([0.485, 0.456, 0.406], [0.229, 0.224, 0.225]),\n",
        "                                               ]))\n",
        "    sample4 = ImageFolder(TRAIN_DIR, \n",
        "                          transforms.Compose([transforms.Resize((224,224)),\n",
        "                                                transforms.RandomRotation(15),\n",
        "                                                transforms.RandomGrayscale(p=1),\n",
        "                                                transforms.RandomAffine(translate=(0.09,0.2), degrees=17),\n",
        "                                                transforms.ToTensor(),\n",
        "                                                transforms.Normalize([0.485, 0.456, 0.406], [0.229, 0.224, 0.225]),\n",
        "                                               ]))\n",
        "\n",
        "\n",
        "    normal_1, _ = train_test_split(sample2, test_size= 3377/(880+3377), shuffle=False)\n",
        "    normal_2, _ = train_test_split(sample3, test_size= 3377/(880+3377), shuffle=False)\n",
        "    normal_3, _ = train_test_split(sample4, test_size= 3000/(880+3377), shuffle=False)\n",
        "\n",
        "    train_dataset = ConcatDataset([sample1, normal_1, normal_2, normal_3])\n",
        "    return train_dataset"
      ]
    },
    {
      "cell_type": "code",
      "execution_count": null,
      "id": "93df4eda",
      "metadata": {
        "id": "93df4eda"
      },
      "outputs": [],
      "source": [
        "train_dataset = get_augmented_data()"
      ]
    },
    {
      "cell_type": "code",
      "execution_count": null,
      "id": "647e1a6c",
      "metadata": {
        "id": "647e1a6c"
      },
      "outputs": [],
      "source": [
        "# Saving the augmented training set images\n",
        "torch.save(train_dataset,'train_dataset_augmented.pt')"
      ]
    },
    {
      "cell_type": "markdown",
      "id": "e89d79ce",
      "metadata": {
        "id": "e89d79ce"
      },
      "source": [
        "Sanity Check to see if the dataset is now balanced"
      ]
    },
    {
      "cell_type": "code",
      "execution_count": null,
      "id": "c1701d59",
      "metadata": {
        "id": "c1701d59",
        "outputId": "8c150459-a10c-4d76-fe8e-56cdc2f07c4c"
      },
      "outputs": [
        {
          "name": "stdout",
          "output_type": "stream",
          "text": [
            "Normal : 3516 and Pneumonia : 3753\n"
          ]
        }
      ],
      "source": [
        "pneumonia = 0\n",
        "normal = 0\n",
        "for i in range(len(train_dataset)):\n",
        "    if train_dataset[i][1]==1:\n",
        "        pneumonia += 1\n",
        "    else:\n",
        "        normal += 1\n",
        "        \n",
        "print(f'Normal : {normal} and Pneumonia : {pneumonia}')"
      ]
    },
    {
      "cell_type": "markdown",
      "id": "c4a07f26",
      "metadata": {
        "id": "c4a07f26"
      },
      "source": [
        "Another preprocessing technique that we can use for the dataset is image cropping. We\n",
        "crop some of the images in the training set so as to highlight only the lung region.\n",
        "Cropping also helped to eliminate any annotation markers or any other markings on\n",
        "the Chest X-Ray images and only focussing on the region of interest in the images.\n",
        "We saved these images as a separate dataset to be used to fine tune the network during\n",
        "the second stage of transfer learning. \n",
        "The Cropped Dataset can be accessed from [here](https://drive.google.com/file/d/11jxjNArE0--jYySd1P2Ii9ivpusW-6kI/view)"
      ]
    },
    {
      "cell_type": "markdown",
      "id": "df38d4fd",
      "metadata": {
        "id": "df38d4fd"
      },
      "source": [
        "## 4. Loading the Cropped Dataset"
      ]
    },
    {
      "cell_type": "code",
      "execution_count": null,
      "id": "ad7cc68e",
      "metadata": {
        "id": "ad7cc68e"
      },
      "outputs": [],
      "source": [
        "cropped_ds = ImageFolder('chest_xray_pre-processed/chest_xray/Cropped', \n",
        "                        transform = transforms.Compose([transforms.Resize((224,224)),\n",
        "                                            transforms.RandomRotation(10),\n",
        "                                            transforms.RandomGrayscale(),\n",
        "                                            transforms.RandomAffine(translate=(0.05,0.05), degrees=0),\n",
        "                                            transforms.ToTensor(),\n",
        "                                            transforms.Normalize([0.485, 0.456, 0.406], [0.229, 0.224, 0.225]),\n",
        "                                           ]))\n"
      ]
    },
    {
      "cell_type": "code",
      "execution_count": null,
      "id": "bd7f5d42",
      "metadata": {
        "id": "bd7f5d42",
        "outputId": "44f42be6-941e-41e2-f689-353a4759c024"
      },
      "outputs": [
        {
          "data": {
            "text/plain": [
              "Dataset ImageFolder\n",
              "    Number of datapoints: 422\n",
              "    Root location: chest_xray_pre-processed/chest_xray/Cropped\n",
              "    StandardTransform\n",
              "Transform: Compose(\n",
              "               Resize(size=(224, 224), interpolation=bilinear, max_size=None, antialias=None)\n",
              "               RandomRotation(degrees=[-10.0, 10.0], interpolation=nearest, expand=False, fill=0)\n",
              "               RandomGrayscale(p=0.1)\n",
              "               RandomAffine(degrees=[0.0, 0.0], translate=(0.05, 0.05))\n",
              "               ToTensor()\n",
              "               Normalize(mean=[0.485, 0.456, 0.406], std=[0.229, 0.224, 0.225])\n",
              "           )"
            ]
          },
          "execution_count": 27,
          "metadata": {},
          "output_type": "execute_result"
        }
      ],
      "source": [
        "cropped_ds"
      ]
    },
    {
      "cell_type": "code",
      "execution_count": null,
      "id": "0f9fad89",
      "metadata": {
        "id": "0f9fad89"
      },
      "outputs": [],
      "source": []
    }
  ],
  "metadata": {
    "kernelspec": {
      "display_name": "Python 3 (ipykernel)",
      "language": "python",
      "name": "python3"
    },
    "language_info": {
      "codemirror_mode": {
        "name": "ipython",
        "version": 3
      },
      "file_extension": ".py",
      "mimetype": "text/x-python",
      "name": "python",
      "nbconvert_exporter": "python",
      "pygments_lexer": "ipython3",
      "version": "3.8.10"
    },
    "colab": {
      "provenance": [],
      "include_colab_link": true
    }
  },
  "nbformat": 4,
  "nbformat_minor": 5
}